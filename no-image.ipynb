{
 "cells": [
  {
   "cell_type": "markdown",
   "metadata": {},
   "source": [
    "<h1 style=\"text-align: center;margin:-7px\">Deep Learning</h1>\n",
    "<h2 style=\"text-align: center;\">Assignment 1: Implement Deep Neural Network from scratch</h2>\n",
    "<h3 style=\"text-align: center;margin:7px\">Student ID: 20231272</h3>\n",
    "<h3 style=\"text-align: center;margin:3px\">Student Name: Kollapudi Nagendra Dheeraj</h3>"
   ]
  },
  {
   "cell_type": "code",
   "execution_count": 1,
   "metadata": {},
   "outputs": [],
   "source": [
    "#Basic File and Matrix Vectorized programming imports\n",
    "import pandas as pd\n",
    "import numpy as np\n",
    "\n",
    "#Standard Imports for Doing Train Test Split and Accuracy\n",
    "from sklearn.model_selection import train_test_split\n",
    "from sklearn.metrics import accuracy_score\n",
    "\n",
    "#For Stochaistic Gradient Descent, where batch_size = 1, we need to get random index of observation for training.\n",
    "import random\n",
    "np.random.seed(100)\n",
    "\n",
    "import matplotlib.pyplot as plt\n",
    "%matplotlib inline"
   ]
  },
  {
   "cell_type": "markdown",
   "metadata": {},
   "source": [
    "# Perform Feature Scaling over X values\n",
    "## Z-Normalization "
   ]
  },
  {
   "cell_type": "markdown",
   "metadata": {},
   "source": [
    "\\begin{equation}\n",
    "\\mu = \\frac{1}{N} \\sum_{i=1}^N (X_i) \n",
    "\\end{equation}\n",
    "\n",
    "\\begin{equation}\n",
    "\\sigma = \\sqrt{\\frac{1}{N} \\sum_{i=1}^N (X_i - \\mu)^2} \n",
    "\\end{equation}\n",
    "\n",
    "\\begin{equation}\n",
    "z = \\frac{x - \\mu}{\\sigma} \n",
    "\\end{equation}\n",
    "\n",
    "\\begin{align*}\n",
    " \\text{where:}~  X_i &= \\text{column-wise values,} \\\\\n",
    "      \\mu &= \\text{Mean or Average value of X,} \\\\\n",
    "      \\sigma &= \\text{Standard Deviation of the X,} \\\\\n",
    "      z &= \\text{Normalized Value of X - these values lie in the range of (0-1)} \\\\\n",
    "\\end{align*}"
   ]
  },
  {
   "cell_type": "code",
   "execution_count": 2,
   "metadata": {},
   "outputs": [],
   "source": [
    "def z_normalization(X):\n",
    "    #Calculate the mean - column wise\n",
    "    mean = np.mean(X, axis=0) \n",
    "\n",
    "    #Calculate the standard deviation - column wise\n",
    "    sd = np.std(X, axis=0) \n",
    "\n",
    "    #Implement the formula as shown above:\n",
    "    return (X - mean) / sd"
   ]
  },
  {
   "cell_type": "code",
   "execution_count": null,
   "metadata": {},
   "outputs": [],
   "source": []
  },
  {
   "cell_type": "markdown",
   "metadata": {},
   "source": [
    "# Part 1\n",
    "# Logistic Regression\n",
    "\n",
    "### References:\n",
    "- Implementation of Neural Net Logistic Regression from Prof. Michael Madden Lecture Notes (Week 2, slide 24)."
   ]
  },
  {
   "cell_type": "markdown",
   "metadata": {},
   "source": [
    "## Hypothesis (Sigmoid Function)\n",
    "\\begin{equation}\n",
    "hypothesis = \\frac{1}{1 + e^{-z}}\n",
    "\\end{equation}\n",
    "\n",
    "\\begin{align*}\n",
    " \\text{where:}~e &= \\text{Exponential Power of the value,} \\\\\n",
    "      z &= \\text{some value whose sigmoid is to be calculated} \\\\\n",
    "\\end{align*}"
   ]
  },
  {
   "cell_type": "markdown",
   "metadata": {},
   "source": [
    "## __init__\n",
    "- Pick some values for $\\alpha$, max_iterations, threshold \n",
    "- In this case $\\alpha$ = 0.001, max_iterations = 1000, threshold = 0.000001"
   ]
  },
  {
   "cell_type": "markdown",
   "metadata": {},
   "source": [
    "## Train\n",
    "\n",
    "   ### Initialize Weights\n",
    "   - W (weight parameter for each column in the observation) is an array of random values chosen from 0 to 0.01.\n",
    "   - b (bias term) is singular random value between 0 to 1"
   ]
  },
  {
   "cell_type": "markdown",
   "metadata": {},
   "source": [
    "## Fetch Random Observation for Stochastic GD\n",
    "\\begin{equation}\n",
    "\\begin{gathered}\n",
    "    \\text{random_index} = \\text{random.randomint(0, len(observations))} \\\\\n",
    "    \\text{rand_X} = X[\\text{random_index}] \\\\\n",
    "    \\text{rand_Y} = Y[\\text{random_index}] \\\\\n",
    "\\end{gathered}\n",
    "\\end{equation}"
   ]
  },
  {
   "cell_type": "markdown",
   "metadata": {},
   "source": [
    "## Forward propagation stage\n",
    "\\begin{equation}\n",
    "\\begin{gathered}\n",
    "    \\hat{y} = hypothesis((W * \\text{rand_X}) + b) \\\\\n",
    "    \\text{j_curr} = -(\\text{rand_y} * \\log(\\hat{y}) + (1 - \\text{rand_y}) * \\log(\\hat{y})) \\\\\n",
    "    \\text{if }\\text{j_curr} - \\text{j_prev} <= \\text{threshold:}\\\\\n",
    "    \\text{break from loop}\n",
    "\\end{gathered}\n",
    "\\end{equation}\n",
    "\n",
    "\\begin{align*}\n",
    " \\text{where:}~ hypothesis &= \\text{Hypothesis of the LR i.e. sigmoid function} \\\\\n",
    "    \\text{rand_X} &= \\text{train data} \\\\\n",
    "    \\text{rand_y} &= \\text{train label} \\\\\n",
    "    W &= \\text{random weights that is to be trained and optimized} \\\\\n",
    "    b &= \\text{random bias of hidden layer that is trained and optimized} \\\\\n",
    "    threshold &= \\text{threshold difference in costs needed for convergence} \\\\\n",
    " \\text{prediction}~ &= \\text{0 or 1 label} \\\\\n",
    "\\end{align*}"
   ]
  },
  {
   "cell_type": "markdown",
   "metadata": {},
   "source": [
    "## Gradient Descent stage\n",
    "\\begin{equation}\n",
    "\\begin{gathered}\n",
    "    \\Delta{w} = (\\hat{y} - y) * X \\\\\n",
    "    \\Delta{b}= \\hat{y} - rand_y \\\\\n",
    "    w \\mathrel{-}= α * \\Delta{w} \\\\\n",
    "    b \\mathrel{-}= α * \\Delta{b} \\\\\n",
    "\\end{gathered}\n",
    "\\end{equation}\n",
    "\n",
    "\\begin{align*}\n",
    " \\text{where:}~ Δw &= \\text{differential weight parameter that is to be reduced from original weight parameter} \\\\\n",
    "    Δb &= \\text{differential bias parameter that is to be reduced from original bias parameter} \\\\\n",
    "    α &= \\text{learning rate} \\\\\n",
    "    \\text{rand_y} &= \\text{test label or unseen data} \\\\\n",
    "    w &= \\text{weight parameter} \\\\\n",
    "    b &= \\text{bias parameter} \\\\\n",
    "\\end{align*}"
   ]
  },
  {
   "cell_type": "markdown",
   "metadata": {},
   "source": [
    "## Predict\n",
    "\\begin{equation}\n",
    "\\text{prediction of X record = } hypothesis((x * W) + b) =\n",
    "    \\begin{cases}\n",
    "     1, & \\text{if}\\ > 0.5 \\\\\n",
    "     0, & \\text{otherwise}\n",
    "    \\end{cases}\n",
    "\\end{equation}\n",
    "\n",
    "\\begin{align*}\n",
    " \\text{where:}~ hypothesis &= \\text{Hypothesis of the LR i.e. sigmoid function} \\\\\n",
    "      x &= \\text{test data or unseen data} \\\\\n",
    "      W &= \\text{weights trained during training phase} \\\\\n",
    "      b &= \\text{bias trained during training phase} \\\\\n",
    "  \\text{prediction}~ &= \\text{0 or 1 label} \\\\\n",
    "\\end{align*}"
   ]
  },
  {
   "cell_type": "code",
   "execution_count": 3,
   "metadata": {},
   "outputs": [],
   "source": [
    "class LogisticRegression:\n",
    "    def sigmoid(self, z):\n",
    "        return 1 / (1 + np.exp(-z))\n",
    "\n",
    "    def __init__(self, learning_rate=0.001, max_iters=1000, threshold = 0.000001):\n",
    "        #Initialization: pick values of alpha and max_iter\n",
    "        self.learning_rate = learning_rate\n",
    "        self.max_iters = max_iters\n",
    "        self.threshold = threshold\n",
    "        self.costs = []\n",
    "        self.iterations = []\n",
    "\n",
    "    def train(self, X, y):\n",
    "        # set valid values of w, b\n",
    "        self.w = np.random.normal(0,0.01,X.shape[1])\n",
    "        self.b = np.random.uniform(0, 1)\n",
    "        j_prev = 0\n",
    "        \n",
    "        #Setting a pretty small value so that log doesn't touch 0\n",
    "        epilson = 0.000000000000000001\n",
    "        \n",
    "        #Iterating over Loop\n",
    "        for iteration in range(self.max_iters):\n",
    "            #Selecting some random index to be fetched from training dataset for training weights\n",
    "            random_index = random.randint(0, X.shape[0]-1)\n",
    "\n",
    "            # Fetching the observations of that random index.\n",
    "            rand_X = X[random_index].reshape(X.shape[1], 1)\n",
    "            rand_y = y[random_index].item()\n",
    "            \n",
    "            #Calculating the predicted y using the activation function and weights\n",
    "            y_hat = self.sigmoid(np.dot(self.w.T, rand_X) + self.b)\n",
    "            \n",
    "            #Calculating the cost function\n",
    "            j_curr = -(rand_y * np.log(y_hat + epilson).item() + (1 - rand_y) * np.log(1 - y_hat + epilson).item())\n",
    "            \n",
    "            #Checking if the difference is under the expected threshold so that the convergence could be checked.\n",
    "            if abs(float(j_curr - j_prev)) <= self.threshold:\n",
    "                print(f'Break out Loss value:\\t{j_curr:.5f}')\n",
    "                break\n",
    "            \n",
    "            if iteration % 10 == 0:\n",
    "                self.iterations.append(iteration)\n",
    "                self.costs.append(j_curr)\n",
    "            \n",
    "            j_prev = j_curr\n",
    "            \n",
    "            #Calculating the delta_w and delta_b for optimize the weights as per the dataset.\n",
    "            delta_w = np.dot(y_hat - y, X)\n",
    "            delta_b = y_hat - rand_y\n",
    "            \n",
    "            #Updating the weights\n",
    "            self.w -= self.learning_rate * delta_w.T\n",
    "            self.b -= self.learning_rate * delta_b\n",
    "            \n",
    "        return self.w, self.b\n",
    "\n",
    "    def predict(self, X):\n",
    "        #After Finalizing the weights, use the activation over the test value to get predictions\n",
    "        y_predict = self.sigmoid(np.dot(X, self.w) + self.b)\n",
    "        \n",
    "        #Putting hard threshold to check if greater than 0.5 then 1 or else 0.\n",
    "        y_predict_labels = y_predict > 0.5\n",
    "        return y_predict_labels.flatten()\n",
    "    \n",
    "    def plot_costs(self):\n",
    "        plt.plot(self.iterations, self.costs, label = 'Costs per Iteration')\n",
    "        plt.title('Costs computed in the LR Implementation')\n",
    "        plt.ylabel('Cost')\n",
    "        plt.xlabel('Iterations')\n",
    "        plt.legend()\n",
    "        plt.xticks(self.iterations)\n",
    "        plt.show()"
   ]
  },
  {
   "cell_type": "code",
   "execution_count": null,
   "metadata": {},
   "outputs": [],
   "source": []
  },
  {
   "cell_type": "markdown",
   "metadata": {},
   "source": [
    "# Part 2\n",
    "### References: \n",
    "- Loading Dataset of moons and blobs from Prof. Michael Madden Assignment 1 Code Snippets."
   ]
  },
  {
   "cell_type": "markdown",
   "metadata": {},
   "source": [
    "## Blobs Dataset"
   ]
  },
  {
   "cell_type": "code",
   "execution_count": 4,
   "metadata": {},
   "outputs": [],
   "source": [
    "def load_blobs_dataset():\n",
    "    # Use pandas to read the CSV file as a dataframe\n",
    "    df = pd.read_csv(\"blobs250.csv\")\n",
    "\n",
    "    # The y values are those labelled 'Class': extract their values\n",
    "    y = df['Class'].values\n",
    "\n",
    "    # The x values are all other columns\n",
    "    del df['Class']   # drop the 'Class' column from the dataframe\n",
    "    X = z_normalization(df.values)     # convert the remaining columns to a numpy array\n",
    "    \n",
    "    #Splitting the whole dataset into 70%-30% for train and test\n",
    "    X_train, X_test, y_train, y_test = train_test_split(X, y, train_size=0.7, shuffle = True)\n",
    "\n",
    "    #Splitting the test dataset into 15%-15% for validation and test\n",
    "    X_test, X_val, y_test, y_val = train_test_split(X_test, y_test, test_size=0.5, shuffle = True)\n",
    "    \n",
    "    return X_train, X_val, X_test, y_train, y_val, y_test"
   ]
  },
  {
   "cell_type": "markdown",
   "metadata": {},
   "source": [
    "## Moons Dataset "
   ]
  },
  {
   "cell_type": "code",
   "execution_count": 5,
   "metadata": {},
   "outputs": [],
   "source": [
    "def load_moons_dataset():\n",
    "    # Use pandas to read the CSV file as a dataframe\n",
    "    df = pd.read_csv(\"moons400.csv\")\n",
    "\n",
    "    # The y values are those labelled 'Class': extract their values\n",
    "    y = df['Class'].values\n",
    "\n",
    "    # The x values are all other columns\n",
    "    del df['Class']   # drop the 'Class' column from the dataframe\n",
    "    X = z_normalization(df.values)  # convert the remaining columns to a numpy array\n",
    "    \n",
    "    #Splitting the whole dataset into 70%-30% for train and test\n",
    "    X_train, X_test, y_train, y_test = train_test_split(X, y, train_size=0.7, shuffle = True)\n",
    "\n",
    "    #Splitting the test dataset into 15%-15% for validation and test\n",
    "    X_test, X_val, y_test, y_val = train_test_split(X_test, y_test, test_size=0.5, shuffle = True)\n",
    "    \n",
    "    return X_train, X_val, X_test, y_train, y_val, y_test"
   ]
  },
  {
   "cell_type": "markdown",
   "metadata": {},
   "source": [
    "## Testing Blobs DataSet on Custom LR"
   ]
  },
  {
   "cell_type": "code",
   "execution_count": 6,
   "metadata": {},
   "outputs": [
    {
     "name": "stdout",
     "output_type": "stream",
     "text": [
      "Break out Loss value:\t0.00001\n"
     ]
    },
    {
     "data": {
      "image/png": "[encoded data removed]",
      "text/plain": [
       "<Figure size 432x288 with 1 Axes>"
      ]
     },
     "metadata": {
      "needs_background": "light"
     },
     "output_type": "display_data"
    },
    {
     "name": "stdout",
     "output_type": "stream",
     "text": [
      "\n",
      "Accuracy on Train: 1.00000\n",
      "Accuracy on Test: 1.00000\n"
     ]
    }
   ],
   "source": [
    "#Initialize Logistic Regression with random weights\n",
    "logreg = LogisticRegression()\n",
    "\n",
    "#Loading Blobs Dataset\n",
    "X_train, X_val, X_test, y_train, y_val, y_test = load_blobs_dataset()\n",
    "\n",
    "#Pass the training dataset to get optimized weights as per the dataset.\n",
    "w, b = logreg.train(X_train, y_train)\n",
    "\n",
    "logreg.plot_costs()\n",
    "\n",
    "#Fetching Accuracy on the training set\n",
    "y_predict = logreg.predict(np.concatenate((X_train, X_val), axis=0))\n",
    "print(f\"\\nAccuracy on Train: {accuracy_score(np.concatenate((y_train, y_val), axis=0), y_predict):.5f}\")\n",
    "\n",
    "#Fetching Accuracy on the test set\n",
    "y_predict = logreg.predict(X_test)\n",
    "print(f\"Accuracy on Test: {accuracy_score(y_test, y_predict):.5f}\")"
   ]
  },
  {
   "cell_type": "markdown",
   "metadata": {},
   "source": [
    "## Observations"
   ]
  },
  {
   "cell_type": "markdown",
   "metadata": {},
   "source": [
    "- This dataset has a smooth drop off in the cost value and after the dip reaches convergence better indicating that the dataset might be linearly separable.\n",
    "- There is no difference in Train and Test Accuracies, indicating no Overfitting.\n",
    "- Train and test values are not low, indicating no Underfitting.\n",
    "- Reaches Highest Accuracy for both Train and Test Datasets."
   ]
  },
  {
   "cell_type": "markdown",
   "metadata": {},
   "source": [
    "## Testing Moons DataSet on Custom LR"
   ]
  },
  {
   "cell_type": "code",
   "execution_count": 7,
   "metadata": {},
   "outputs": [
    {
     "name": "stdout",
     "output_type": "stream",
     "text": [
      "Break out Loss value:\t0.00000\n"
     ]
    },
    {
     "data": {
      "image/png": "[encoded data removed]",
      "text/plain": [
       "<Figure size 432x288 with 1 Axes>"
      ]
     },
     "metadata": {
      "needs_background": "light"
     },
     "output_type": "display_data"
    },
    {
     "name": "stdout",
     "output_type": "stream",
     "text": [
      "\n",
      "Accuracy on Train: 0.84706\n",
      "Accuracy on Test: 0.86667\n"
     ]
    }
   ],
   "source": [
    "#Initialize Logistic Regression with random weights\n",
    "logreg = LogisticRegression()\n",
    "\n",
    "#Loading Moons Dataset\n",
    "X_train, X_val, X_test, y_train, y_val, y_test = load_moons_dataset()\n",
    "\n",
    "#Pass the training dataset to get optimized weights as per the dataset.\n",
    "w, b = logreg.train(X_train, y_train)\n",
    "\n",
    "logreg.plot_costs()\n",
    "\n",
    "#Fetching Accuracy on the training set\n",
    "y_predict = logreg.predict(np.concatenate((X_train, X_val), axis=0))\n",
    "print(f\"\\nAccuracy on Train: {accuracy_score(np.concatenate((y_train, y_val), axis=0), y_predict):.5f}\")\n",
    "\n",
    "#Fetching Accuracy on the test set\n",
    "y_predict = logreg.predict(X_test)\n",
    "print(f\"Accuracy on Test: {accuracy_score(y_test, y_predict):.5f}\")"
   ]
  },
  {
   "cell_type": "markdown",
   "metadata": {},
   "source": [
    "## Observations"
   ]
  },
  {
   "cell_type": "markdown",
   "metadata": {},
   "source": [
    "- This dataset shows variability in reaching convergence even though dips are seen, highs are also visible indicating data is not linearly separable.\n",
    "- There is no much difference in Train and Test Accuracies, indicating no Overfitting.\n",
    "- Train and test values are not low, indicating no Underfitting.\n",
    "- Sames as above, Reaches Higher Accuracy for Train and Test Dataset values"
   ]
  },
  {
   "cell_type": "code",
   "execution_count": null,
   "metadata": {},
   "outputs": [],
   "source": []
  },
  {
   "cell_type": "markdown",
   "metadata": {},
   "source": [
    "# Part 3\n",
    "# Implementing 1 Hidden Layer Neural Network\n",
    "\n",
    "### References:\n",
    "- Implementation of Neural Net Logistic Regression from Prof. Michael Madden Lecture Notes (Week 3, slide 19).\n",
    "- Building a Neural Network with a Single Hidden Layer using Numpy (2020). Available at: https://towardsdatascience.com/building-a-neural-network-with-a-single-hidden-layer-using-numpy-923be1180dbf (Accessed: 28 February 2021).\n",
    "- Implementing a Neural Network from Scratch in Python – An Introduction (2015). Available at: http://www.wildml.com/2015/09/implementing-a-neural-network-from-scratch/ (Accessed: 1 March 2021)."
   ]
  },
  {
   "cell_type": "markdown",
   "metadata": {},
   "source": [
    "## Hypothesis (Sigmoid Function)\n",
    "\\begin{equation}\n",
    "hypothesis = \\frac{1}{1 + e^{-z}}\n",
    "\\end{equation}\n",
    "\n",
    "\\begin{align*}\n",
    " \\text{where:}~e &= \\text{Exponential Power of the value,} \\\\\n",
    "      z &= \\text{some value whose sigmoid is to be calculated} \\\\\n",
    "\\end{align*}"
   ]
  },
  {
   "cell_type": "markdown",
   "metadata": {},
   "source": [
    "## Derivative Hypothesis (Sigmoid Function)'\n",
    "\\begin{equation}\n",
    "hypothesis' = hypothesis(x) * 1-hypothesis(x)\n",
    "\\end{equation}\n",
    "\n",
    "\\begin{align*}\n",
    " \\text{where:}~hypothesis(x) &= \\text{Value of the Hypothesis from above,} \\\\\n",
    "      x &= \\text{some value whose derivative sigmoid is to be calculated} \\\\\n",
    "\\end{align*}"
   ]
  },
  {
   "cell_type": "markdown",
   "metadata": {},
   "source": [
    "## __init__\n",
    "- Pick some values for $\\alpha$, max_iterations, threshold \n",
    "- In this case $\\alpha$ = 0.001, max_iterations = 1000, threshold = 0.000001\n",
    "- layers is an array that provides the no. of nodes that is needed to be created in each layer"
   ]
  },
  {
   "cell_type": "markdown",
   "metadata": {},
   "source": [
    "## Train\n",
    "\n",
    "### Initialize Weights\n",
    "   - W1 (weight parameter of hidden layer) is an array of random values under the range of 0 to 0.01 and the weight size is (number of input nodes * number of hidden nodes)\n",
    "   - W2 (weight parameter of output layer) is an array of random values under the range of 0 to 0.01 and the weight size is  (number of hidden nodes * number of output nodes)\n",
    "   - b1 (bias of hidden layer) is a 1D array of values between 0 to 1 whose size is the number of hidden nodes\n",
    "   - b2 (bias of output layer) is a 1D array of values between 0 to 1 whose size is the number of output nodes"
   ]
  },
  {
   "cell_type": "markdown",
   "metadata": {},
   "source": [
    "### Fetch Random Observation for Stochastic GD\n",
    "\\begin{equation}\n",
    "\\begin{gathered}\n",
    "\\text{random_index} = \\text{random.randomint(0, len(observations))} \\\\\n",
    "\\text{rand_X} = X[\\text{random_index}] \\\\\n",
    "\\text{rand_Y} = Y[\\text{random_index}] \\\\\n",
    "\\end{gathered}\n",
    "\\end{equation}\n",
    "\n",
    "### Forward propagation stage\n",
    "\\begin{equation}\n",
    "\\begin{gathered}\n",
    "\\text{z1} = \\text{rand_X} * W1 + b1 \\\\\n",
    "\\text{a1} = hypothesis(z1) \\\\\n",
    "\\text{z2} = \\text{a1} * W2 + b2 \\\\\n",
    "\\text{a2} = hypothesis(z2) \\\\\n",
    "\\hat{y} = \\text{a2} \\\\\n",
    "\\text{j_curr} = -(\\text{rand_y} * \\log(\\hat{y}) + (1 - \\text{rand_y}) * \\log(\\hat{y})) \\\\\n",
    "\\text{if }\\text{j_curr} - \\text{j_prev} <= \\text{threshold: break from loop}\\\\\n",
    "\\end{gathered}\n",
    "\\end{equation}\n",
    "\n",
    "\\begin{align*}\n",
    "\\text{where:}~ \\text{rand_X} &= \\text{train data} \\\\\n",
    "W1 &= \\text{Weights parameter of the hidden layer that are random yet to be optimized and trained} \\\\\n",
    "b1 &= \\text{Bias parameter of the hidden layer that are random yet to be optimized and trained} \\\\\n",
    "hypothesis &= \\text{Hypothesis of the LR i.e. sigmoid function} \\\\\n",
    "W2 &= \\text{Weights parameter of the output layer that are random yet to be optimized and trained} \\\\\n",
    "b2 &= \\text{Bias parameter of the output layer that are random yet to be optimized and trained} \\\\\n",
    "\\hat{y} &= \\text{Ouptut predicted by the network during training} \\\\\n",
    "threshold &= \\text{threshold difference in costs needed for convergence} \\\\\n",
    "\\end{align*}\n",
    "\n",
    "### Back propagation stage\n",
    "\\begin{equation}\n",
    "\\begin{gathered}\n",
    "dZ2 = \\hat{y} - y \\\\\n",
    "dW2 = dZ2 * a1 \\\\\n",
    "db2 = dZ2 \\\\\n",
    "dZ1 = (hypothesis'(z1)) * (dZ2 \\cdot W2) \\\\\n",
    "dW1 = dZ1 * X \\\\\n",
    "db1 = dZ1 \\\\\n",
    "\\end{gathered}\n",
    "\\end{equation}\n",
    "\n",
    "\\begin{align*}\n",
    "\\text{where:}~ \\hat{y} &= \\text{Ouptut predicted by the network during training} \\\\\n",
    "y &= \\text{train label} \\\\\n",
    "a1 &= \\text{value of the hidden layer parameters activation(x * w + b)} \\\\\n",
    "hypothesis' &= \\text{derivative of the hypothesis function} \\\\\n",
    "W2 &= \\text{Weights from the Output Layer} \\\\\n",
    "X &= \\text{train data} \\\\\n",
    "\\end{align*}\n",
    "    \n",
    "### Gradient Descent stage\n",
    "\\begin{equation}\n",
    "\\begin{gathered}\n",
    "W1 \\mathrel{-}= α * dW1\\\\\n",
    "W2 \\mathrel{-}= α * dW2\\\\\n",
    "b1 \\mathrel{-}= α * db1\\\\\n",
    "b2 \\mathrel{-}= α * db2\\\\\n",
    "\\end{gathered}\n",
    "\\end{equation}\n",
    "\n",
    "\\begin{align*}\n",
    "\\text{where:}~ dW1 &= \\text{differential weight parameter of hidden layer that is to be reduced from original weights of that layer} \\\\\n",
    "dW2 &= \\text{differential weight parameter of output layer that is to be reduced from original weights of that layer} \\\\\n",
    "db1 &= \\text{differential bias parameter of hidden layer that is to be reduced from original bias of that layer} \\\\\n",
    "db2 &= \\text{differential bias parameter of output layer that is to be reduced from original bias of that layer} \\\\\n",
    "α &= \\text{learning rate} \\\\\n",
    "\\end{align*}"
   ]
  },
  {
   "cell_type": "markdown",
   "metadata": {},
   "source": [
    "## Predict\n",
    "\\begin{equation}\n",
    "\\begin{gathered}\n",
    "    \\text{z1} = \\text{rand_X} * W1 + b1 \\\\\n",
    "    \\text{a1} = hypothesis(z1) \\\\\n",
    "    \\text{z2} = \\text{a1} * W2 + b2 \\\\\n",
    "    \\text{a2} = hypothesis(z2) \\\\\n",
    "\\end{gathered}\n",
    "\\end{equation}\n",
    "\n",
    "\\begin{equation}\n",
    "\\begin{gathered}\n",
    "\\text{prediction of rand_X = } a2 =\n",
    "    \\begin{cases}\n",
    "     1, & \\text{if}\\ > 0.5 \\\\\n",
    "     0, & \\text{otherwise}\n",
    "    \\end{cases}\n",
    "\\end{gathered}\n",
    "\\end{equation}\n",
    "\n",
    "\\begin{align*}\n",
    " \\text{where:}~ hypothesis &= \\text{Hypothesis of the LR i.e. sigmoid function} \\\\\n",
    "      \\text{rand_X} &= \\text{test data or unseen data} \\\\\n",
    "      W1 &= \\text{weights of hidden layer that is trained and optimized} \\\\\n",
    "      b1 &= \\text{bias of hidden layer that is trained and optimized} \\\\\n",
    "      W2 &= \\text{weights of output layer that is trained and optimized} \\\\\n",
    "      b2 &= \\text{bias of output layer that is trained and optimized} \\\\\n",
    "  \\text{prediction}~ &= \\text{0 or 1 label} \\\\\n",
    "\\end{align*}"
   ]
  },
  {
   "cell_type": "code",
   "execution_count": 8,
   "metadata": {},
   "outputs": [],
   "source": [
    "class NeuralNet():\n",
    "    def sigmoid(self, z):\n",
    "        return 1 / (1 + np.exp(-z))\n",
    "    \n",
    "    def derivative_sigmoid(self, z):\n",
    "        return self.sigmoid(z).dot((1-self.sigmoid(z)).T)\n",
    "    \n",
    "    def __init__(self, layers, learning_rate=0.01, max_iters=10000, threshold = 0.000001):\n",
    "        #Initialization: pick values of alpha and max_iter\n",
    "        self.layers = layers\n",
    "        self.learning_rate = learning_rate\n",
    "        self.max_iters = max_iters\n",
    "        self.threshold = threshold\n",
    "        self.params = {}\n",
    "        self.costs = []\n",
    "        self.iterations = []\n",
    "        \n",
    "        #Actual Weight and bias parameters needed for processing the network\n",
    "        self.params['W1'] = np.random.normal(0,0.01, (self.layers[0], self.layers[1]))\n",
    "        self.params['b1'] = np.random.uniform(0, 1, self.layers[1]).reshape(1,self.layers[1])\n",
    "        self.params['W2'] = np.random.normal(0,0.01, (self.layers[1], self.layers[2]))\n",
    "        self.params['b2'] = np.random.uniform(0, 1, self.layers[2]).reshape(1,self.layers[2])\n",
    "        \n",
    "    def train(self, X, y):\n",
    "        j_prev = 0\n",
    "        for iteration in range(self.max_iters):\n",
    "            #Selecting some random index to be fetched from training dataset for training weights\n",
    "            random_index = random.randint(0, X.shape[0]-1)\n",
    "\n",
    "            # Fetching the observations of that random index.\n",
    "            rand_X = X[random_index].reshape(X.shape[1], 1)\n",
    "            rand_y = y[random_index].item()\n",
    "            \n",
    "            #Forward Propagation Step - Input Layer\n",
    "            z1 = rand_X.T.dot(self.params['W1']) + self.params['b1']\n",
    "            a1 = self.sigmoid(z1)\n",
    "            \n",
    "            #Forward Propagation Step - Hidden Layer\n",
    "            z2 = a1.dot(self.params['W2']) + self.params['b2']\n",
    "            a2 = self.sigmoid(z2)\n",
    "            \n",
    "            epilson = 0.000000000000000001\n",
    "            \n",
    "            #Calculating the cost function\n",
    "            j_curr = -(rand_y * np.log(a2 + epilson).item() + (1 - rand_y) * np.log(1 - a2 + epilson).item())\n",
    "            \n",
    "            #Checking if the difference is under the expected threshold so that the convergence could be checked.\n",
    "            if abs(float(j_curr - j_prev)) <= self.threshold:\n",
    "                print(f'Break out Loss value:\\t{j_curr:.5f}')\n",
    "                break\n",
    "            \n",
    "            if iteration % 1000 == 0:\n",
    "                self.iterations.append(iteration)\n",
    "                self.costs.append(j_curr)\n",
    "            \n",
    "            j_prev = j_curr\n",
    "            \n",
    "            #Backward Propagation Step - Output Layer\n",
    "            dZ2 = a2 - rand_y\n",
    "            dW2 = dZ2 * a1\n",
    "            db2 = dZ2\n",
    "            \n",
    "            #Backward Propagation Step - Hidden Layer\n",
    "            dZ1 = self.derivative_sigmoid(z1) * dZ2.dot(self.params['W2'].T)\n",
    "            dW1 = dZ1.T.dot(rand_X.T)\n",
    "            db1 = dZ1\n",
    "            \n",
    "            #Gradient Descent Stage\n",
    "            self.params['W1'] -= self.learning_rate * dW1.T\n",
    "            self.params['W2'] -= self.learning_rate * dW2.T\n",
    "            self.params['b1'] -= self.learning_rate * db1\n",
    "            self.params['b2'] -= self.learning_rate * db2\n",
    "            \n",
    "    def predict(self, X):\n",
    "        #Forward Propagation on trained weights and bias to get predictions.\n",
    "        z1 = X.dot(self.params['W1']) + self.params['b1']\n",
    "        a1 = self.sigmoid(z1)\n",
    "\n",
    "        z2 = a1.dot(self.params['W2']) + self.params['b2']\n",
    "        a2 = self.sigmoid(z2)\n",
    "        \n",
    "        return a2 > 0.5\n",
    "    \n",
    "    def plot_costs(self):\n",
    "        plt.plot(self.iterations, self.costs, label = 'Costs per Iteration')\n",
    "        plt.title('Costs computed in the LR Implementation')\n",
    "        plt.ylabel('Cost')\n",
    "        plt.xlabel('Iterations')\n",
    "        plt.legend()\n",
    "        plt.xticks(self.iterations)\n",
    "        plt.show()"
   ]
  },
  {
   "cell_type": "markdown",
   "metadata": {},
   "source": [
    "### Loading Moons Data and training on Custom NeuralNet"
   ]
  },
  {
   "cell_type": "code",
   "execution_count": 9,
   "metadata": {},
   "outputs": [
    {
     "data": {
      "image/png": "[encoded data removed]",
      "text/plain": [
       "<Figure size 432x288 with 1 Axes>"
      ]
     },
     "metadata": {
      "needs_background": "light"
     },
     "output_type": "display_data"
    }
   ],
   "source": [
    "#Loading Moons Dataset\n",
    "X_train, X_val, X_test, y_train, y_val, y_test = load_moons_dataset()\n",
    "\n",
    "#Training the network with 4 nodes in hidden layer.\n",
    "nn = NeuralNet(layers=[X_train.shape[1],4,1])\n",
    "nn.train(X_train, y_train)\n",
    "nn.plot_costs()"
   ]
  },
  {
   "cell_type": "code",
   "execution_count": 10,
   "metadata": {},
   "outputs": [
    {
     "name": "stdout",
     "output_type": "stream",
     "text": [
      "\n",
      "Accuracy on Train: 0.87647\n",
      "Accuracy on Test: 0.86667\n"
     ]
    }
   ],
   "source": [
    "#Fetching Accuracy on the training set\n",
    "y_predict = nn.predict(np.concatenate((X_train, X_val), axis=0))\n",
    "print(f\"\\nAccuracy on Train: {accuracy_score(np.concatenate((y_train, y_val), axis=0), y_predict):.5f}\")\n",
    "\n",
    "#Fetching Accuracy on the test set\n",
    "y_predict = nn.predict(X_test)\n",
    "print(f\"Accuracy on Test: {accuracy_score(y_test, y_predict):.5f}\")"
   ]
  },
  {
   "cell_type": "markdown",
   "metadata": {},
   "source": [
    "### Observations:\n",
    "- As seen here, the cost function spiked and went a sudden low, indicating that the system searched for local minima and then found the global minima.\n",
    "- There is no much difference in Train and Test Accuracies, indicating no Overfitting.\n",
    "- Train and test values are not low, indicating no Underfitting.\n",
    "- The Accuracy for train was increased, indicating that the dataset needed a little complex Hypothesis but for test the accuracy is the same like in the Neural Net case."
   ]
  },
  {
   "cell_type": "markdown",
   "metadata": {},
   "source": [
    "### Loading Blobs Dataset and training on Custom NeuralNet"
   ]
  },
  {
   "cell_type": "code",
   "execution_count": 49,
   "metadata": {},
   "outputs": [
    {
     "data": {
      "image/png": "[encoded data removed]",
      "text/plain": [
       "<Figure size 432x288 with 1 Axes>"
      ]
     },
     "metadata": {
      "needs_background": "light"
     },
     "output_type": "display_data"
    }
   ],
   "source": [
    "#Loading Blobs Dataset\n",
    "X_train, X_val, X_test, y_train, y_val, y_test = load_blobs_dataset()\n",
    "\n",
    "#Training the network with 4 nodes in hidden layer.\n",
    "nn = NeuralNet(layers=[X_train.shape[1],4,1])\n",
    "nn.train(X_train, y_train)\n",
    "nn.plot_costs()"
   ]
  },
  {
   "cell_type": "code",
   "execution_count": 12,
   "metadata": {},
   "outputs": [
    {
     "name": "stdout",
     "output_type": "stream",
     "text": [
      "\n",
      "Accuracy on Train: 1.00000\n",
      "Accuracy on Test: 1.00000\n"
     ]
    }
   ],
   "source": [
    "#Fetching Accuracy on the training set\n",
    "y_predict = nn.predict(np.concatenate((X_train, X_val), axis=0))\n",
    "print(f\"\\nAccuracy on Train: {accuracy_score(np.concatenate((y_train, y_val), axis=0), y_predict):.5f}\")\n",
    "\n",
    "#Fetching Accuracy on the test set\n",
    "y_predict = nn.predict(X_test)\n",
    "print(f\"Accuracy on Test: {accuracy_score(y_test, y_predict):.5f}\")"
   ]
  },
  {
   "cell_type": "markdown",
   "metadata": {},
   "source": [
    "### Observations:\n",
    "- We can observe that there was incremental dip in cost and after few iterations plateaued little variability.\n",
    "- There is no difference in Train and Test Accuracies, indicating no Overfitting.\n",
    "- Train and test values are not low, indicating no Underfitting.\n",
    "- As seen above there is no change in the Accuracy for this dataset, indicating that the dataset is linearly separable.\n",
    "- Thus no matter how complex the architecture it was able to figure out the weights and provide predictions."
   ]
  },
  {
   "cell_type": "code",
   "execution_count": null,
   "metadata": {},
   "outputs": [],
   "source": []
  },
  {
   "cell_type": "markdown",
   "metadata": {},
   "source": [
    "# Part - 4\n",
    "# Loading CIFAR Dataset and Training 1 Hidden Layer NN on 2 Classes\n",
    "\n",
    "### References:\n",
    "- Loading of cifar code snippets from Prof. Michael Madden Assigment 1 Code Snippets\n",
    "- Krizhevsky, A. (2019). The CIFAR-10 dataset. [online] Available at: https://www.cs.toronto.edu/~kriz/cifar.html (Accessed 28 Feb 2021)."
   ]
  },
  {
   "cell_type": "code",
   "execution_count": 13,
   "metadata": {},
   "outputs": [],
   "source": [
    "#Unload the data present in binary format \n",
    "def unpickle(file):\n",
    "    import pickle\n",
    "    with open(file, 'rb') as fo:\n",
    "        dict = pickle.load(fo, encoding='bytes')\n",
    "    return dict\n",
    "\n",
    "#Fetch the batchname and unload the data\n",
    "def loadbatch(batchname):\n",
    "    folder = 'cifar-10-batches-py'\n",
    "    batch = unpickle(folder+\"/\"+batchname)\n",
    "    return batch\n",
    "\n",
    "#Load the label names\n",
    "def loadlabelnames():\n",
    "    folder = 'cifar-10-batches-py'\n",
    "    meta = unpickle(folder+\"/\"+'batches.meta')\n",
    "    return meta[b'label_names']"
   ]
  },
  {
   "cell_type": "code",
   "execution_count": 14,
   "metadata": {},
   "outputs": [
    {
     "name": "stdout",
     "output_type": "stream",
     "text": [
      "Number of items in the batch is 4\n",
      "All keys in the batch: dict_keys([b'batch_label', b'labels', b'data', b'filenames'])\n"
     ]
    }
   ],
   "source": [
    "batch1 = loadbatch('data_batch_1')\n",
    "print(\"Number of items in the batch is\", len(batch1))\n",
    "\n",
    "# Display all keys, so we can see the ones we want\n",
    "print('All keys in the batch:', batch1.keys())"
   ]
  },
  {
   "cell_type": "code",
   "execution_count": 15,
   "metadata": {},
   "outputs": [
    {
     "name": "stdout",
     "output_type": "stream",
     "text": [
      "size of data in this batch: 10000 , size of labels: 10000\n"
     ]
    }
   ],
   "source": [
    "data = batch1[b'data']\n",
    "labels = batch1[b'labels']\n",
    "print (\"size of data in this batch:\", len(data), \", size of labels:\", len(labels))\n",
    "\n",
    "names = loadlabelnames()"
   ]
  },
  {
   "cell_type": "code",
   "execution_count": 16,
   "metadata": {},
   "outputs": [
    {
     "name": "stdout",
     "output_type": "stream",
     "text": [
      "1032\n",
      "1030\n"
     ]
    },
    {
     "data": {
      "image/png": "[encoded data removed]",
      "text/plain": [
       "<Figure size 432x288 with 1 Axes>"
      ]
     },
     "metadata": {
      "needs_background": "light"
     },
     "output_type": "display_data"
    },
    {
     "name": "stdout",
     "output_type": "stream",
     "text": [
      "b'bird'\n"
     ]
    },
    {
     "data": {
      "image/png": "[encoded data removed]",
      "text/plain": [
       "<Figure size 432x288 with 1 Axes>"
      ]
     },
     "metadata": {
      "needs_background": "light"
     },
     "output_type": "display_data"
    },
    {
     "name": "stdout",
     "output_type": "stream",
     "text": [
      "b'frog'\n"
     ]
    }
   ],
   "source": [
    "def visualise(data, index):\n",
    "    # MM Jan 2019: Given a CIFAR data nparray and the index of an image, display the image.\n",
    "    # Note that the images will be quite fuzzy looking, because they are low res (32x32).\n",
    "\n",
    "    picture = data[index]\n",
    "    # Initially, the data is a 1D array of 3072 pixels; reshape it to a 3D array of 3x32x32 pixels\n",
    "    # Note: after reshaping like this, you could select one colour channel or average them.\n",
    "    picture.shape = (3,32,32) \n",
    "    \n",
    "    # Plot.imshow requires the RGB to be the third dimension, not the first, so need to rearrange\n",
    "    picture = picture.transpose([1, 2, 0])\n",
    "    plt.imshow(picture)\n",
    "    plt.show()\n",
    "    \n",
    "# Fetch the indexes of the bird and frog\n",
    "bird_indices=[i for i,x in enumerate(labels) if x == 2]\n",
    "frog_indices=[i for i,x in enumerate(labels) if x == 6]\n",
    "\n",
    "#Print the number of elements present\n",
    "print(len(bird_indices))\n",
    "print(len(frog_indices))\n",
    "\n",
    "#Concatenate them so that we can collectively process/transform all the records\n",
    "indices = np.concatenate((bird_indices, frog_indices), axis = 0)\n",
    "\n",
    "#Dataset Preparation Step\n",
    "data_frog_bird = data[indices]\n",
    "labels_numpy = np.array(labels)\n",
    "data_frog_bird_labels = labels_numpy[indices]\n",
    "\n",
    "#Visualizing few records just to check the images and their labels.\n",
    "for i in range(1031, 1033):\n",
    "    visualise(data_frog_bird, i)\n",
    "    print(names[data_frog_bird_labels[i]])"
   ]
  },
  {
   "cell_type": "code",
   "execution_count": 17,
   "metadata": {},
   "outputs": [],
   "source": [
    "#Used RGB to Gray to transform the data and used np.array to make them 1D\n",
    "from skimage.color import rgb2gray\n",
    "data_frog_bird_transformed = np.array(rgb2gray(data_frog_bird))"
   ]
  },
  {
   "cell_type": "code",
   "execution_count": 18,
   "metadata": {},
   "outputs": [],
   "source": [
    "#Normalizing the data\n",
    "X = data_frog_bird_transformed/255\n",
    "\n",
    "#LabelEncoder so that system can work with 0 and 1 labels\n",
    "category_labelling = {2:0, 6:1}\n",
    "y = np.array([category_labelling[i] for i in data_frog_bird_labels])"
   ]
  },
  {
   "cell_type": "code",
   "execution_count": 32,
   "metadata": {},
   "outputs": [
    {
     "data": {
      "image/png": "[encoded data removed]",
      "text/plain": [
       "<Figure size 432x288 with 1 Axes>"
      ]
     },
     "metadata": {
      "needs_background": "light"
     },
     "output_type": "display_data"
    }
   ],
   "source": [
    "#Fetch train and test values\n",
    "X_train, X_test, y_train, y_test = train_test_split(X, y, test_size=0.3, shuffle = True)\n",
    "\n",
    "#Training the existing neural net on image data\n",
    "nn = NeuralNet(layers=[X_train.shape[1],4,1])\n",
    "nn.train(X_train, y_train)\n",
    "nn.plot_costs()"
   ]
  },
  {
   "cell_type": "code",
   "execution_count": 33,
   "metadata": {},
   "outputs": [
    {
     "name": "stdout",
     "output_type": "stream",
     "text": [
      "\n",
      "Accuracy on Train: 0.70617\n",
      "Accuracy on Test: 0.66074\n"
     ]
    }
   ],
   "source": [
    "#Fetching Accuracy on the training set\n",
    "y_predict = nn.predict(X_train)\n",
    "print(f\"\\nAccuracy on Train: {accuracy_score(y_train, y_predict):.5f}\")\n",
    "\n",
    "#Fetching Accuracy on the test set\n",
    "y_predict = nn.predict(X_test)\n",
    "print(f\"Accuracy on Test: {accuracy_score(y_test, y_predict):.5f}\")"
   ]
  },
  {
   "cell_type": "markdown",
   "metadata": {},
   "source": [
    "### HyperParameter Tuning:\n",
    "#### In here we have 2 parameters: Learning Rate and Number of Hidden Layer Nodes.\n",
    "- Learning Rate: Used the standard LR 0.01 as we want the Neural Network to descend slowly for better chances to find minima\n",
    "- Number of Hidden Layers: Opted for 4 based on the parity function. As our dataset has 2 columns so 2^2=4. Was the best choice to go and highest accuracy value was also found here.\n",
    "\n",
    "### Observations:\n",
    "- The Neural Net Implementation for this same Dataset, as provided better Accuracy for train and test far beyond my expectation.\n",
    "- We can see that there is alot of hills formed indicating that the cost function plan is not smooth but has alot of local and global minima and system at 8k iterations was able to find better minima.\n",
    "- There is no much difference in Train and Test Accuracies, indicating no Overfitting.\n",
    "- Train and test values are not low, indicating no Underfitting.\n",
    "- Indicating that the dataset like images, voice and text needed complex hypothesis which the Neural Net can satisfies."
   ]
  },
  {
   "cell_type": "code",
   "execution_count": null,
   "metadata": {},
   "outputs": [],
   "source": []
  },
  {
   "cell_type": "markdown",
   "metadata": {},
   "source": [
    "# Part - 5\n",
    "# Deep Learning Enhancements\n",
    "\n",
    "### References:\n",
    "- CS231n Convolutional Neural Networks for Visual Recognition (2021). Available at: https://cs231n.github.io/neural-networks-1/ (Accessed: 9 March 2021).\n",
    "- Activation Functions — ML Glossary documentation (2021). Available at: https://ml-cheatsheet.readthedocs.io/en/latest/activation_functions.html (Accessed: 9 March 2021).\n",
    "- Coding Neural Network — Dropout (2019). Available at: https://towardsdatascience.com/coding-neural-network-dropout-3095632d25ce (Accessed: 9 March 2021)."
   ]
  },
  {
   "cell_type": "markdown",
   "metadata": {},
   "source": [
    "### Changing of Activation Function:\n",
    "- While trying different activation functions, I found LeakyReLU performing better so incorporated it into my code.\n",
    "\n",
    "#### Leaky ReLU:\n",
    "\\begin{equation}\n",
    "\\text{Leaky_Relu(z) = }\n",
    "    \\begin{cases}\n",
    "     z, & \\text{if z}\\ > 0 \\\\\n",
    "     \\alpha z, & \\text{else}\n",
    "    \\end{cases}\n",
    "\\end{equation}\n",
    "\n",
    "#### Derivative of Leaky ReLU:\n",
    "\\begin{equation}\n",
    "\\text{Leaky_Relu'(z) = }\n",
    "    \\begin{cases}\n",
    "     1, & \\text{if z}\\ > 0 \\\\\n",
    "     \\alpha, & \\text{else}\n",
    "    \\end{cases}\n",
    "\\end{equation}"
   ]
  },
  {
   "cell_type": "markdown",
   "metadata": {},
   "source": [
    "### DropOut Regularization:\n",
    "- Randomly dropping out a hidden layer node to avoid Overfitting, so in that context both the incoming weights and outgoing weights are set to 0.\n",
    "\n",
    "\\begin{equation}\n",
    "\\begin{gathered}\n",
    "    \\hspace{-50cm} \\text{if random_probability < drop_off_prob} :  \\\\\n",
    "    \\text{random_hidden_node_index} = \\text{random.int(0, number of hidden layer nodes)} \\\\\n",
    "    \\text{W1[random_hidden_node_index]} = 0 \\\\\n",
    "    \\text{W2[random_hidden_node_index]} = 0 \\\\\n",
    "\\end{gathered}\n",
    "\\end{equation}\n",
    "\n",
    "\n",
    "\\begin{align*}\n",
    " \\text{where:}~ \\text{drop_off_index} &= \\text{Value between 0 to 1 that controls the times of regularization during training.} \\\\\n",
    "      \\text{random_hidden_node_index} &= \\text{random number from 0 to no. of hidden which indicates the node to dropped out} \\\\\n",
    "      W1 &= \\text{weights of hidden layer that is trained and optimized} \\\\\n",
    "      W2 &= \\text{weights of output layer that is trained and optimized} \\\\\n",
    "\\end{align*}"
   ]
  },
  {
   "cell_type": "code",
   "execution_count": 46,
   "metadata": {},
   "outputs": [],
   "source": [
    "class NeuralNet_Enhanced():\n",
    "    def leaky_relu(self,z):\n",
    "        return np.maximum(0.01 * z, z)\n",
    "    \n",
    "    def derivative_leaky_relu(self,z):\n",
    "        dz = np.ones_like(z)\n",
    "        dz[z < 0] = 0.01\n",
    "        return dz\n",
    "    \n",
    "    def __init__(self, layers, learning_rate=0.01, max_iters=10000, threshold = 0.000001):\n",
    "        #Initialization: pick values of alpha and max_iter\n",
    "        self.layers = layers\n",
    "        self.learning_rate = learning_rate\n",
    "        self.max_iters = max_iters\n",
    "        self.threshold = threshold\n",
    "        self.params = {}\n",
    "        self.costs = []\n",
    "        self.iterations = []\n",
    "        \n",
    "        #Actual Weight and bias parameters needed for processing the network\n",
    "        self.params['W1'] = np.random.normal(0,0.01, (self.layers[0], self.layers[1]))\n",
    "        self.params['b1'] = np.random.uniform(0, 1, self.layers[1]).reshape(1,self.layers[1])\n",
    "        self.params['W2'] = np.random.normal(0,0.01, (self.layers[1], self.layers[2]))\n",
    "        self.params['b2'] = np.random.uniform(0, 1, self.layers[2]).reshape(1,self.layers[2])\n",
    "    \n",
    "    def drop_out_reg(self):\n",
    "        #Check if the generated prob is above the drop prob and then randomly set hidden node weights to 0\n",
    "        if round(random.uniform(0.1, 1.0), 2) < 0.2:\n",
    "            random_hidden_node_index = random.randint(0, self.layers[1]-1)\n",
    "            self.params['W1'][random_hidden_node_index] = np.zeros(self.layers[1])\n",
    "            self.params['W2'][random_hidden_node_index] = np.zeros(self.layers[2])\n",
    "    \n",
    "    def train(self, X, y):\n",
    "        j_prev = 0\n",
    "        for iteration in range(self.max_iters):\n",
    "            #Performing Drop Out Regularization at the beginning of each iteration\n",
    "            self.drop_out_reg()\n",
    "\n",
    "            #Selecting some random index to be fetched from training dataset for training weights\n",
    "            random_index = random.randint(0, X.shape[0]-1)\n",
    "\n",
    "            # Fetching the observations of that random index.\n",
    "            rand_X = X[random_index].reshape(X.shape[1], 1)\n",
    "            rand_y = y[random_index].item()\n",
    "            \n",
    "            #Forward Propagation Step - Hidden Layer\n",
    "            z1 = rand_X.T.dot(self.params['W1']) + self.params['b1']\n",
    "            a1 = self.leaky_relu(z1)\n",
    "            \n",
    "            #Forward Propagation Step - Output Layer\n",
    "            z2 = a1.dot(self.params['W2']) + self.params['b2']\n",
    "            a2 = self.leaky_relu(z2)\n",
    "            \n",
    "            epilson = 0.000000000000000001\n",
    "            \n",
    "            #Calculating the cost function\n",
    "            j_curr = -(rand_y * np.log(a2 + epilson).item() + (1 - rand_y) * np.log(1 - a2 + epilson).item())\n",
    "            \n",
    "            #Checking if the difference is under the expected threshold so that the convergence could be checked.\n",
    "            if abs(float(j_curr - j_prev)) <= self.threshold:\n",
    "                print(f'Break out Loss value:\\t{j_curr:.5f}')\n",
    "                break\n",
    "            \n",
    "            if iteration % 1000 == 0:\n",
    "                self.iterations.append(iteration)\n",
    "                self.costs.append(j_curr)\n",
    "            \n",
    "            j_prev = j_curr\n",
    "            \n",
    "            #Back Propagation Step - Output Layer\n",
    "            dZ2 = a2 - rand_y\n",
    "            dW2 = dZ2 * a1\n",
    "            db2 = dZ2\n",
    "\n",
    "            #Back Propagation Step - Hidden Layer\n",
    "            dZ1 = self.derivative_leaky_relu(z1) * dZ2.dot(self.params['W2'].T)\n",
    "            dW1 = dZ1.T.dot(rand_X.T)\n",
    "            db1 = dZ1\n",
    "            \n",
    "            #Gradient Descent Step\n",
    "            self.params['W1'] -= self.learning_rate * dW1.T\n",
    "            self.params['W2'] -= self.learning_rate * dW2.T\n",
    "            self.params['b1'] -= self.learning_rate * db1\n",
    "            self.params['b2'] -= self.learning_rate * db2\n",
    "            \n",
    "    def predict(self, X):\n",
    "        #Forward Propagation on trained weights and bias to get predictions.\n",
    "        z1 = X.dot(self.params['W1']) + self.params['b1']\n",
    "        a1 = self.leaky_relu(z1)\n",
    "\n",
    "        z2 = a1.dot(self.params['W2']) + self.params['b2']\n",
    "        a2 = self.leaky_relu(z2)\n",
    "        \n",
    "        return a2 > 0.5\n",
    "    \n",
    "    def plot_costs(self):\n",
    "        plt.plot(self.iterations, self.costs, label = 'Costs per Iteration')\n",
    "        plt.title('Costs computed in the LR Implementation')\n",
    "        plt.ylabel('Cost')\n",
    "        plt.xlabel('Iterations')\n",
    "        plt.legend()\n",
    "        plt.xticks(self.iterations)\n",
    "        plt.show()"
   ]
  },
  {
   "cell_type": "code",
   "execution_count": 47,
   "metadata": {},
   "outputs": [
    {
     "name": "stderr",
     "output_type": "stream",
     "text": [
      "<ipython-input-46-16e8807e78d6>:57: RuntimeWarning: invalid value encountered in log\n",
      "  j_curr = -(rand_y * np.log(a2 + epilson).item() + (1 - rand_y) * np.log(1 - a2 + epilson).item())\n"
     ]
    },
    {
     "data": {
      "image/png": "[encoded data removed]",
      "text/plain": [
       "<Figure size 432x288 with 1 Axes>"
      ]
     },
     "metadata": {
      "needs_background": "light"
     },
     "output_type": "display_data"
    }
   ],
   "source": [
    "nn_e = NeuralNet_Enhanced(layers=[X_train.shape[1],4,1])\n",
    "nn_e.train(X_train, y_train)\n",
    "nn_e.plot_costs()"
   ]
  },
  {
   "cell_type": "code",
   "execution_count": 48,
   "metadata": {},
   "outputs": [
    {
     "name": "stdout",
     "output_type": "stream",
     "text": [
      "\n",
      "Accuracy on Train: 0.73666\n",
      "Accuracy on Test: 0.72375\n"
     ]
    }
   ],
   "source": [
    "#Fetching Accuracy on the training set\n",
    "y_predict = nn_e.predict(X_train)\n",
    "print(f\"\\nAccuracy on Train: {accuracy_score(y_train, y_predict):.5f}\")\n",
    "\n",
    "#Fetching Accuracy on the test set\n",
    "y_predict = nn_e.predict(X_test)\n",
    "print(f\"Accuracy on Test: {accuracy_score(y_test, y_predict):.5f}\")"
   ]
  },
  {
   "cell_type": "markdown",
   "metadata": {},
   "source": [
    "## Observations\n",
    "- Adding Leaky_Relu and Drop Off Regularization added 6% increase to accuracy to an already higher accuracy.\n",
    "- Reasoning to this could be in a general Convolutional Step Leaky_Relu might be the perfect activation function and so because of that when we added leaky_relu as an activation function instead of sigmoid it performed better.\n",
    "- The Architecture might be somewhere overfitting for this dataset, so adding DropOut Regularization internally helped to avoid overfitting and to an extend improve the accuracy by not perfectly fitting on the train data.\n",
    "- The difference between the Train and test accuracies is less than the above scenario as we have added Drop Off Regularization thus controlling Overfitting, while maintaining higher accuracy.\n",
    "- There is no much difference in Train and Test Accuracies, indicating no Overfitting.\n",
    "- Train and test values are not low, indicating no Underfitting.\n",
    "- Also due to the DropOff Regularization, the cost function has seen unexpected peculiar hills whose decrementing heights. Could be possibly searching for global minima but found a good-enough minima as indicated in the accuracy scores. "
   ]
  }
 ],
 "metadata": {
  "kernelspec": {
   "display_name": "Python 3",
   "language": "python",
   "name": "python3"
  },
  "language_info": {
   "codemirror_mode": {
    "name": "ipython",
    "version": 3
   },
   "file_extension": ".py",
   "mimetype": "text/x-python",
   "name": "python",
   "nbconvert_exporter": "python",
   "pygments_lexer": "ipython3",
   "version": "3.8.3"
  }
 },
 "nbformat": 4,
 "nbformat_minor": 4
}
