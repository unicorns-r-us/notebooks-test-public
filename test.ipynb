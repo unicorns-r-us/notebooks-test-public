{
 "cells": [
  {
   "cell_type": "markdown",
   "id": "dfebe6b3-6380-42b0-ad18-7eff2502596f",
   "metadata": {},
   "source": [
    "# Test various image rendering on GitHub ----\n",
    "\n",
    "\n",
    "## PNG with HTML tag, URL link\n",
    "\n",
    "<img src=\"https://sebastianraschka.com/images/test-github-image-rendering/1.png\">\n",
    "\n",
    "\n",
    "## JPEG with HTML tag, URL link\n",
    "\n",
    "<img src=\"https://sebastianraschka.com/images/test-github-image-rendering/1.jpg\">\n",
    "\n",
    "## WEBP with HTML tag, URL link\n",
    "\n",
    "<img src=\"https://sebastianraschka.com/images/test-github-image-rendering/1.webp\">\n",
    "\n",
    "## PNG with Markodwn syntax, URL link\n",
    "\n",
    "![](https://sebastianraschka.com/images/test-github-image-rendering/1.png)\n",
    "\n",
    "## JPEG with Markodwn syntax, URL link\n",
    "\n",
    "![](https://sebastianraschka.com/images/test-github-image-rendering/1.jpg)\n",
    "\n",
    "## WEBP with Markodwn syntax, URL link\n",
    "\n",
    "![](https://sebastianraschka.com/images/test-github-image-rendering/1.webp)\n",
    "\n"
   ]
  }
 ],
 "metadata": {
  "kernelspec": {
   "display_name": "Python 3 (ipykernel)",
   "language": "python",
   "name": "python3"
  },
  "language_info": {
   "codemirror_mode": {
    "name": "ipython",
    "version": 3
   },
   "file_extension": ".py",
   "mimetype": "text/x-python",
   "name": "python",
   "nbconvert_exporter": "python",
   "pygments_lexer": "ipython3",
   "version": "3.10.6"
  }
 },
 "nbformat": 4,
 "nbformat_minor": 5
}

